{
 "metadata": {
  "language_info": {
   "codemirror_mode": {
    "name": "ipython",
    "version": 3
   },
   "file_extension": ".py",
   "mimetype": "text/x-python",
   "name": "python",
   "nbconvert_exporter": "python",
   "pygments_lexer": "ipython3",
   "version": "3.9.2-final"
  },
  "orig_nbformat": 2,
  "kernelspec": {
   "name": "python3",
   "display_name": "Python 3.9.2 64-bit ('.venv')",
   "metadata": {
    "interpreter": {
     "hash": "29af02e5d68328336a49521896b348387631ee3aa57bf2973a42a44b1f3a5659"
    }
   }
  }
 },
 "nbformat": 4,
 "nbformat_minor": 2,
 "cells": [
  {
   "cell_type": "code",
   "execution_count": 1,
   "metadata": {},
   "outputs": [],
   "source": [
    "# Portfolio Optimisation\n",
    "\n",
    "# Importing all required libraries\n",
    "import pandas as pd\n",
    "import pandas_datareader as web\n",
    "import numpy as np\n",
    "import matplotlib.pyplot as plt\n",
    "from matplotlib.ticker import FuncFormatter"
   ]
  },
  {
   "cell_type": "code",
   "execution_count": 2,
   "metadata": {},
   "outputs": [],
   "source": [
    "# Importing the Portfolio Optimisation Library functions\n",
    "from pypfopt.efficient_frontier import EfficientFrontier\n",
    "from pypfopt import risk_models\n",
    "from pypfopt import expected_returns\n",
    "from pypfopt import discrete_allocation\n",
    "from pypfopt.cla import CLA\n",
    "import pypfopt.plotting as pplt\n",
    "from matplotlib.ticker import FuncFormatter"
   ]
  },
  {
   "cell_type": "code",
   "execution_count": 7,
   "metadata": {},
   "outputs": [
    {
     "output_type": "execute_result",
     "data": {
      "text/plain": [
       "               AMS.SW         CS      LISP.SW       LOGN    NESN.SW  \\\n",
       "Date                                                                  \n",
       "2015-01-02        NaN  19.479528          NaN  20.950785        NaN   \n",
       "2015-01-05  35.639008  18.894909  4683.604492  21.208073  60.324280   \n",
       "2015-01-06  35.639008  18.559729  4510.274414  21.208073  59.904190   \n",
       "2015-01-07  35.639008  18.544138  4552.685547  21.208073  60.114235   \n",
       "2015-01-08  36.420139  18.403828  4609.847168  21.208073  61.206455   \n",
       "\n",
       "              NOVN.SW      ROG.SW     SLHN.SW    SREN.SW    UBSG.SW  \n",
       "Date                                                                 \n",
       "2015-01-02        NaN         NaN         NaN        NaN        NaN  \n",
       "2015-01-05  63.183182  219.947983  179.613235  59.720718  11.509805  \n",
       "2015-01-06  62.708366  218.749588  178.535400  59.250484  11.420368  \n",
       "2015-01-07  63.013599  218.749588  179.074310  59.467514  11.530444  \n",
       "2015-01-08  65.658958  225.300858  182.230835  60.914413  11.709318  "
      ],
      "text/html": "<div>\n<style scoped>\n    .dataframe tbody tr th:only-of-type {\n        vertical-align: middle;\n    }\n\n    .dataframe tbody tr th {\n        vertical-align: top;\n    }\n\n    .dataframe thead th {\n        text-align: right;\n    }\n</style>\n<table border=\"1\" class=\"dataframe\">\n  <thead>\n    <tr style=\"text-align: right;\">\n      <th></th>\n      <th>AMS.SW</th>\n      <th>CS</th>\n      <th>LISP.SW</th>\n      <th>LOGN</th>\n      <th>NESN.SW</th>\n      <th>NOVN.SW</th>\n      <th>ROG.SW</th>\n      <th>SLHN.SW</th>\n      <th>SREN.SW</th>\n      <th>UBSG.SW</th>\n    </tr>\n    <tr>\n      <th>Date</th>\n      <th></th>\n      <th></th>\n      <th></th>\n      <th></th>\n      <th></th>\n      <th></th>\n      <th></th>\n      <th></th>\n      <th></th>\n      <th></th>\n    </tr>\n  </thead>\n  <tbody>\n    <tr>\n      <th>2015-01-02</th>\n      <td>NaN</td>\n      <td>19.479528</td>\n      <td>NaN</td>\n      <td>20.950785</td>\n      <td>NaN</td>\n      <td>NaN</td>\n      <td>NaN</td>\n      <td>NaN</td>\n      <td>NaN</td>\n      <td>NaN</td>\n    </tr>\n    <tr>\n      <th>2015-01-05</th>\n      <td>35.639008</td>\n      <td>18.894909</td>\n      <td>4683.604492</td>\n      <td>21.208073</td>\n      <td>60.324280</td>\n      <td>63.183182</td>\n      <td>219.947983</td>\n      <td>179.613235</td>\n      <td>59.720718</td>\n      <td>11.509805</td>\n    </tr>\n    <tr>\n      <th>2015-01-06</th>\n      <td>35.639008</td>\n      <td>18.559729</td>\n      <td>4510.274414</td>\n      <td>21.208073</td>\n      <td>59.904190</td>\n      <td>62.708366</td>\n      <td>218.749588</td>\n      <td>178.535400</td>\n      <td>59.250484</td>\n      <td>11.420368</td>\n    </tr>\n    <tr>\n      <th>2015-01-07</th>\n      <td>35.639008</td>\n      <td>18.544138</td>\n      <td>4552.685547</td>\n      <td>21.208073</td>\n      <td>60.114235</td>\n      <td>63.013599</td>\n      <td>218.749588</td>\n      <td>179.074310</td>\n      <td>59.467514</td>\n      <td>11.530444</td>\n    </tr>\n    <tr>\n      <th>2015-01-08</th>\n      <td>36.420139</td>\n      <td>18.403828</td>\n      <td>4609.847168</td>\n      <td>21.208073</td>\n      <td>61.206455</td>\n      <td>65.658958</td>\n      <td>225.300858</td>\n      <td>182.230835</td>\n      <td>60.914413</td>\n      <td>11.709318</td>\n    </tr>\n  </tbody>\n</table>\n</div>"
     },
     "metadata": {},
     "execution_count": 7
    }
   ],
   "source": [
    "# Get tickers of required stocks\n",
    "# Using AMS, CS, Lindt, Logitech, Nestle, Novartis, Roche, Swiss Life, Swiss Re, UBS\n",
    "tickers = [\"AMS.SW\", \"CS\", \"LISP.SW\", \"LOGN\", \"NESN.SW\", \"NOVN.SW\", \"ROG.SW\", \"SLHN.SW\", \"SREN.SW\", \"UBSG.SW\"]\n",
    "the_len = len(tickers)\n",
    "price_data = []\n",
    "\n",
    "for ticker in range(the_len):\n",
    "    prices = web.DataReader(tickers[ticker], start=\"2015-01-01\", end=\"2021-03-12\", data_source=\"yahoo\")\n",
    "    price_data.append(prices.assign(ticker=ticker)[[\"Adj Close\"]])\n",
    "\n",
    "df_stocks = pd.concat(price_data, axis=1)\n",
    "df_stocks.columns=tickers\n",
    "df_stocks.head()"
   ]
  },
  {
   "cell_type": "code",
   "execution_count": 6,
   "metadata": {},
   "outputs": [
    {
     "output_type": "stream",
     "name": "stdout",
     "text": [
      "AMS.SW     41\nCS         38\nLISP.SW    41\nLOGN       38\nNESN.SW    41\nNOVN.SW    41\nROG.SW     41\nSLHN.SW    41\nSREN.SW    41\nUBSG.SW    41\ndtype: int64\n"
     ]
    }
   ],
   "source": [
    "# Checking if there are any NAN values in the data\n",
    "nullin_df = pd.DataFrame(df_stocks, columns=tickers)\n",
    "print(nullin_df.isnull().sum())"
   ]
  },
  {
   "cell_type": "code",
   "execution_count": 7,
   "metadata": {},
   "outputs": [
    {
     "output_type": "execute_result",
     "data": {
      "text/plain": [
       "AMS.SW    -0.097103\n",
       "CS        -0.063576\n",
       "LISP.SW    0.093255\n",
       "LOGN       0.145769\n",
       "NESN.SW    0.083131\n",
       "NOVN.SW    0.033551\n",
       "ROG.SW     0.047808\n",
       "SLHN.SW    0.158104\n",
       "SREN.SW    0.070692\n",
       "UBSG.SW    0.036313\n",
       "dtype: float64"
      ]
     },
     "metadata": {},
     "execution_count": 7
    }
   ],
   "source": [
    "# Annualised Return\n",
    "mu = expected_returns.mean_historical_return(df_stocks)\n",
    "\n",
    "mu"
   ]
  },
  {
   "cell_type": "code",
   "execution_count": 8,
   "metadata": {},
   "outputs": [
    {
     "output_type": "execute_result",
     "data": {
      "text/plain": [
       "           AMS.SW        CS   LISP.SW      LOGN   NESN.SW   NOVN.SW    ROG.SW  \\\n",
       "AMS.SW   0.362196  0.061956  0.020607  0.005762  0.016216  0.026420  0.019978   \n",
       "CS       0.061956  0.121363  0.013827  0.002497  0.013728  0.022140  0.016660   \n",
       "LISP.SW  0.020607  0.013827  0.038409  0.003802  0.015252  0.016052  0.014678   \n",
       "LOGN     0.005762  0.002497  0.003802  0.085546 -0.000192 -0.000376  0.000170   \n",
       "NESN.SW  0.016216  0.013728  0.015252 -0.000192  0.026773  0.021297  0.020499   \n",
       "NOVN.SW  0.026420  0.022140  0.016052 -0.000376  0.021297  0.039551  0.028984   \n",
       "ROG.SW   0.019978  0.016660  0.014678  0.000170  0.020499  0.028984  0.039543   \n",
       "SLHN.SW  0.049786  0.050572  0.016636  0.001380  0.017210  0.024818  0.019522   \n",
       "SREN.SW  0.043084  0.044731  0.016743  0.001777  0.016279  0.023645  0.019333   \n",
       "UBSG.SW  0.062301  0.072287  0.016961  0.001246  0.019085  0.028549  0.023087   \n",
       "\n",
       "          SLHN.SW   SREN.SW   UBSG.SW  \n",
       "AMS.SW   0.049786  0.043084  0.062301  \n",
       "CS       0.050572  0.044731  0.072287  \n",
       "LISP.SW  0.016636  0.016743  0.016961  \n",
       "LOGN     0.001380  0.001777  0.001246  \n",
       "NESN.SW  0.017210  0.016279  0.019085  \n",
       "NOVN.SW  0.024818  0.023645  0.028549  \n",
       "ROG.SW   0.019522  0.019333  0.023087  \n",
       "SLHN.SW  0.054609  0.045008  0.050747  \n",
       "SREN.SW  0.045008  0.055407  0.045665  \n",
       "UBSG.SW  0.050747  0.045665  0.084028  "
      ],
      "text/html": "<div>\n<style scoped>\n    .dataframe tbody tr th:only-of-type {\n        vertical-align: middle;\n    }\n\n    .dataframe tbody tr th {\n        vertical-align: top;\n    }\n\n    .dataframe thead th {\n        text-align: right;\n    }\n</style>\n<table border=\"1\" class=\"dataframe\">\n  <thead>\n    <tr style=\"text-align: right;\">\n      <th></th>\n      <th>AMS.SW</th>\n      <th>CS</th>\n      <th>LISP.SW</th>\n      <th>LOGN</th>\n      <th>NESN.SW</th>\n      <th>NOVN.SW</th>\n      <th>ROG.SW</th>\n      <th>SLHN.SW</th>\n      <th>SREN.SW</th>\n      <th>UBSG.SW</th>\n    </tr>\n  </thead>\n  <tbody>\n    <tr>\n      <th>AMS.SW</th>\n      <td>0.362196</td>\n      <td>0.061956</td>\n      <td>0.020607</td>\n      <td>0.005762</td>\n      <td>0.016216</td>\n      <td>0.026420</td>\n      <td>0.019978</td>\n      <td>0.049786</td>\n      <td>0.043084</td>\n      <td>0.062301</td>\n    </tr>\n    <tr>\n      <th>CS</th>\n      <td>0.061956</td>\n      <td>0.121363</td>\n      <td>0.013827</td>\n      <td>0.002497</td>\n      <td>0.013728</td>\n      <td>0.022140</td>\n      <td>0.016660</td>\n      <td>0.050572</td>\n      <td>0.044731</td>\n      <td>0.072287</td>\n    </tr>\n    <tr>\n      <th>LISP.SW</th>\n      <td>0.020607</td>\n      <td>0.013827</td>\n      <td>0.038409</td>\n      <td>0.003802</td>\n      <td>0.015252</td>\n      <td>0.016052</td>\n      <td>0.014678</td>\n      <td>0.016636</td>\n      <td>0.016743</td>\n      <td>0.016961</td>\n    </tr>\n    <tr>\n      <th>LOGN</th>\n      <td>0.005762</td>\n      <td>0.002497</td>\n      <td>0.003802</td>\n      <td>0.085546</td>\n      <td>-0.000192</td>\n      <td>-0.000376</td>\n      <td>0.000170</td>\n      <td>0.001380</td>\n      <td>0.001777</td>\n      <td>0.001246</td>\n    </tr>\n    <tr>\n      <th>NESN.SW</th>\n      <td>0.016216</td>\n      <td>0.013728</td>\n      <td>0.015252</td>\n      <td>-0.000192</td>\n      <td>0.026773</td>\n      <td>0.021297</td>\n      <td>0.020499</td>\n      <td>0.017210</td>\n      <td>0.016279</td>\n      <td>0.019085</td>\n    </tr>\n    <tr>\n      <th>NOVN.SW</th>\n      <td>0.026420</td>\n      <td>0.022140</td>\n      <td>0.016052</td>\n      <td>-0.000376</td>\n      <td>0.021297</td>\n      <td>0.039551</td>\n      <td>0.028984</td>\n      <td>0.024818</td>\n      <td>0.023645</td>\n      <td>0.028549</td>\n    </tr>\n    <tr>\n      <th>ROG.SW</th>\n      <td>0.019978</td>\n      <td>0.016660</td>\n      <td>0.014678</td>\n      <td>0.000170</td>\n      <td>0.020499</td>\n      <td>0.028984</td>\n      <td>0.039543</td>\n      <td>0.019522</td>\n      <td>0.019333</td>\n      <td>0.023087</td>\n    </tr>\n    <tr>\n      <th>SLHN.SW</th>\n      <td>0.049786</td>\n      <td>0.050572</td>\n      <td>0.016636</td>\n      <td>0.001380</td>\n      <td>0.017210</td>\n      <td>0.024818</td>\n      <td>0.019522</td>\n      <td>0.054609</td>\n      <td>0.045008</td>\n      <td>0.050747</td>\n    </tr>\n    <tr>\n      <th>SREN.SW</th>\n      <td>0.043084</td>\n      <td>0.044731</td>\n      <td>0.016743</td>\n      <td>0.001777</td>\n      <td>0.016279</td>\n      <td>0.023645</td>\n      <td>0.019333</td>\n      <td>0.045008</td>\n      <td>0.055407</td>\n      <td>0.045665</td>\n    </tr>\n    <tr>\n      <th>UBSG.SW</th>\n      <td>0.062301</td>\n      <td>0.072287</td>\n      <td>0.016961</td>\n      <td>0.001246</td>\n      <td>0.019085</td>\n      <td>0.028549</td>\n      <td>0.023087</td>\n      <td>0.050747</td>\n      <td>0.045665</td>\n      <td>0.084028</td>\n    </tr>\n  </tbody>\n</table>\n</div>"
     },
     "metadata": {},
     "execution_count": 8
    }
   ],
   "source": [
    "# Sample Variance of Portfolio\n",
    "Sigma = risk_models.sample_cov(df_stocks)\n",
    "\n",
    "Sigma"
   ]
  },
  {
   "cell_type": "code",
   "execution_count": 9,
   "metadata": {},
   "outputs": [
    {
     "output_type": "stream",
     "name": "stdout",
     "text": [
      "OrderedDict([('AMS.SW', 0.0), ('CS', 0.0), ('LISP.SW', 0.12265), ('LOGN', 0.29523), ('NESN.SW', 0.14322), ('NOVN.SW', 0.0), ('ROG.SW', 0.0), ('SLHN.SW', 0.43889), ('SREN.SW', 0.0), ('UBSG.SW', 0.0)])\n"
     ]
    }
   ],
   "source": [
    "# Max Sharpe Ratio - Tangent to the EF\n",
    "ef1 = EfficientFrontier(mu, Sigma, weight_bounds=(0,1))  # weight_bounds in negative allows shorting of stocks\n",
    "sharpe_pfolio = ef1.max_sharpe()  # May use add objective to ensure minimum zero weighting to individual stocks\n",
    "sharpe_pwt = ef1.clean_weights()\n",
    "print(sharpe_pwt)"
   ]
  },
  {
   "cell_type": "code",
   "execution_count": 14,
   "metadata": {},
   "outputs": [
    {
     "output_type": "stream",
     "name": "stdout",
     "text": [
      "Expected annual return: 13.6%\nAnnual volatility: 15.6%\nSharpe Ratio: 0.74\n"
     ]
    },
    {
     "output_type": "execute_result",
     "data": {
      "text/plain": [
       "(0.13577090629558272, 0.15559553796633513, 0.7440502973846915)"
      ]
     },
     "metadata": {},
     "execution_count": 14
    }
   ],
   "source": [
    "# Get portfolio performance\n",
    "ef1.portfolio_performance(verbose=True)  # 2 year risk free rate - Treasury Yield would set risk_free_rate=0.27"
   ]
  },
  {
   "cell_type": "code",
   "execution_count": 15,
   "metadata": {},
   "outputs": [
    {
     "output_type": "stream",
     "name": "stdout",
     "text": [
      "OrderedDict([('AMS.SW', 0.0), ('CS', 0.02965), ('LISP.SW', 0.19071), ('LOGN', 0.1941), ('NESN.SW', 0.38971), ('NOVN.SW', 0.01851), ('ROG.SW', 0.10772), ('SLHN.SW', 0.01215), ('SREN.SW', 0.05746), ('UBSG.SW', 0.0)])\n"
     ]
    }
   ],
   "source": [
    "# Minimum Volatility Portfolio\n",
    "ef2 = EfficientFrontier(mu, Sigma, weight_bounds=(0,1))  # weight_bounds in negative allows shorting of stocks\n",
    "minvol = ef2.min_volatility()\n",
    "minvol_pwt = ef2.clean_weights()\n",
    "print(minvol_pwt)"
   ]
  },
  {
   "cell_type": "code",
   "execution_count": 16,
   "metadata": {},
   "outputs": [
    {
     "output_type": "stream",
     "name": "stdout",
     "text": [
      "Expected annual return: 8.8%\nAnnual volatility: 13.2%\nSharpe Ratio: 0.52\n"
     ]
    },
    {
     "output_type": "execute_result",
     "data": {
      "text/plain": [
       "(0.08834321692074365, 0.1321317848408091, 0.517235251178078)"
      ]
     },
     "metadata": {},
     "execution_count": 16
    }
   ],
   "source": [
    "# Get MinVol portfolio performance\n",
    "ef2.portfolio_performance(verbose=True)  # 2 year risk free rate - Treasury Yield would set risk_free_rate=0.27"
   ]
  },
  {
   "cell_type": "code",
   "execution_count": 17,
   "metadata": {},
   "outputs": [
    {
     "output_type": "display_data",
     "data": {
      "text/plain": "<Figure size 432x288 with 1 Axes>",
      "image/svg+xml": "<?xml version=\"1.0\" encoding=\"utf-8\" standalone=\"no\"?>\r\n<!DOCTYPE svg PUBLIC \"-//W3C//DTD SVG 1.1//EN\"\r\n  \"http://www.w3.org/Graphics/SVG/1.1/DTD/svg11.dtd\">\r\n<!-- Created with matplotlib (https://matplotlib.org/) -->\r\n<svg height=\"280.15625pt\" version=\"1.1\" viewBox=\"0 0 419.8125 280.15625\" width=\"419.8125pt\" xmlns=\"http://www.w3.org/2000/svg\" xmlns:xlink=\"http://www.w3.org/1999/xlink\">\r\n <metadata>\r\n  <rdf:RDF xmlns:cc=\"http://creativecommons.org/ns#\" xmlns:dc=\"http://purl.org/dc/elements/1.1/\" xmlns:rdf=\"http://www.w3.org/1999/02/22-rdf-syntax-ns#\">\r\n   <cc:Work>\r\n    <dc:type rdf:resource=\"http://purl.org/dc/dcmitype/StillImage\"/>\r\n    <dc:date>2021-03-13T18:35:52.957925</dc:date>\r\n    <dc:format>image/svg+xml</dc:format>\r\n    <dc:creator>\r\n     <cc:Agent>\r\n      <dc:title>Matplotlib v3.3.4, https://matplotlib.org/</dc:title>\r\n     </cc:Agent>\r\n    </dc:creator>\r\n   </cc:Work>\r\n  </rdf:RDF>\r\n </metadata>\r\n <defs>\r\n  <style type=\"text/css\">*{stroke-linecap:butt;stroke-linejoin:round;}</style>\r\n </defs>\r\n <g id=\"figure_1\">\r\n  <g id=\"patch_1\">\r\n   <path d=\"M 0 280.15625 \r\nL 419.8125 280.15625 \r\nL 419.8125 0 \r\nL 0 0 \r\nz\r\n\" style=\"fill:none;\"/>\r\n  </g>\r\n  <g id=\"axes_1\">\r\n   <g id=\"patch_2\">\r\n    <path d=\"M 53.7125 242.6 \r\nL 412.6125 242.6 \r\nL 412.6125 7.2 \r\nL 53.7125 7.2 \r\nz\r\n\" style=\"fill:#ffffff;\"/>\r\n   </g>\r\n   <g id=\"PathCollection_1\">\r\n    <defs>\r\n     <path d=\"M -5 5 \r\nL 5 -5 \r\nM -5 -5 \r\nL 5 5 \r\n\" id=\"m73bf914bb9\" style=\"stroke:#ff0000;stroke-width:1.5;\"/>\r\n    </defs>\r\n    <g clip-path=\"url(#p168ee438a6)\">\r\n     <use style=\"fill:#ff0000;stroke:#ff0000;stroke-width:1.5;\" x=\"81.430684\" xlink:href=\"#m73bf914bb9\" y=\"41.372162\"/>\r\n    </g>\r\n   </g>\r\n   <g id=\"PathCollection_2\">\r\n    <defs>\r\n     <path d=\"M 0 2.738613 \r\nC 0.726289 2.738613 1.422928 2.450055 1.936492 1.936492 \r\nC 2.450055 1.422928 2.738613 0.726289 2.738613 0 \r\nC 2.738613 -0.726289 2.450055 -1.422928 1.936492 -1.936492 \r\nC 1.422928 -2.450055 0.726289 -2.738613 0 -2.738613 \r\nC -0.726289 -2.738613 -1.422928 -2.450055 -1.936492 -1.936492 \r\nC -2.450055 -1.422928 -2.738613 -0.726289 -2.738613 0 \r\nC -2.738613 0.726289 -2.450055 1.422928 -1.936492 1.936492 \r\nC -1.422928 2.450055 -0.726289 2.738613 0 2.738613 \r\nz\r\n\" id=\"m96a66e4821\" style=\"stroke:#000000;\"/>\r\n    </defs>\r\n    <g clip-path=\"url(#p168ee438a6)\">\r\n     <use style=\"stroke:#000000;\" x=\"396.298864\" xlink:href=\"#m96a66e4821\" y=\"231.9\"/>\r\n     <use style=\"stroke:#000000;\" x=\"220.236851\" xlink:href=\"#m96a66e4821\" y=\"203.787013\"/>\r\n     <use style=\"stroke:#000000;\" x=\"114.378789\" xlink:href=\"#m96a66e4821\" y=\"72.277988\"/>\r\n     <use style=\"stroke:#000000;\" x=\"181.413541\" xlink:href=\"#m96a66e4821\" y=\"28.24352\"/>\r\n     <use style=\"stroke:#000000;\" x=\"91.90295\" xlink:href=\"#m96a66e4821\" y=\"80.767922\"/>\r\n     <use style=\"stroke:#000000;\" x=\"116.389202\" xlink:href=\"#m96a66e4821\" y=\"122.341916\"/>\r\n     <use style=\"stroke:#000000;\" x=\"116.374134\" xlink:href=\"#m96a66e4821\" y=\"110.387354\"/>\r\n     <use style=\"stroke:#000000;\" x=\"140.570124\" xlink:href=\"#m96a66e4821\" y=\"17.9\"/>\r\n     <use style=\"stroke:#000000;\" x=\"141.751656\" xlink:href=\"#m96a66e4821\" y=\"91.19841\"/>\r\n     <use style=\"stroke:#000000;\" x=\"179.602414\" xlink:href=\"#m96a66e4821\" y=\"120.026195\"/>\r\n    </g>\r\n   </g>\r\n   <g id=\"matplotlib.axis_1\">\r\n    <g id=\"xtick_1\">\r\n     <g id=\"line2d_1\">\r\n      <defs>\r\n       <path d=\"M 0 0 \r\nL 0 3.5 \r\n\" id=\"mb670d757ed\" style=\"stroke:#000000;stroke-width:0.8;\"/>\r\n      </defs>\r\n      <g>\r\n       <use style=\"stroke:#000000;stroke-width:0.8;\" x=\"117.170579\" xlink:href=\"#mb670d757ed\" y=\"242.6\"/>\r\n      </g>\r\n     </g>\r\n     <g id=\"text_1\">\r\n      <!-- 20% -->\r\n      <g transform=\"translate(106.057298 257.198437)scale(0.1 -0.1)\">\r\n       <defs>\r\n        <path d=\"M 19.1875 8.296875 \r\nL 53.609375 8.296875 \r\nL 53.609375 0 \r\nL 7.328125 0 \r\nL 7.328125 8.296875 \r\nQ 12.9375 14.109375 22.625 23.890625 \r\nQ 32.328125 33.6875 34.8125 36.53125 \r\nQ 39.546875 41.84375 41.421875 45.53125 \r\nQ 43.3125 49.21875 43.3125 52.78125 \r\nQ 43.3125 58.59375 39.234375 62.25 \r\nQ 35.15625 65.921875 28.609375 65.921875 \r\nQ 23.96875 65.921875 18.8125 64.3125 \r\nQ 13.671875 62.703125 7.8125 59.421875 \r\nL 7.8125 69.390625 \r\nQ 13.765625 71.78125 18.9375 73 \r\nQ 24.125 74.21875 28.421875 74.21875 \r\nQ 39.75 74.21875 46.484375 68.546875 \r\nQ 53.21875 62.890625 53.21875 53.421875 \r\nQ 53.21875 48.921875 51.53125 44.890625 \r\nQ 49.859375 40.875 45.40625 35.40625 \r\nQ 44.1875 33.984375 37.640625 27.21875 \r\nQ 31.109375 20.453125 19.1875 8.296875 \r\nz\r\n\" id=\"DejaVuSans-50\"/>\r\n        <path d=\"M 31.78125 66.40625 \r\nQ 24.171875 66.40625 20.328125 58.90625 \r\nQ 16.5 51.421875 16.5 36.375 \r\nQ 16.5 21.390625 20.328125 13.890625 \r\nQ 24.171875 6.390625 31.78125 6.390625 \r\nQ 39.453125 6.390625 43.28125 13.890625 \r\nQ 47.125 21.390625 47.125 36.375 \r\nQ 47.125 51.421875 43.28125 58.90625 \r\nQ 39.453125 66.40625 31.78125 66.40625 \r\nz\r\nM 31.78125 74.21875 \r\nQ 44.046875 74.21875 50.515625 64.515625 \r\nQ 56.984375 54.828125 56.984375 36.375 \r\nQ 56.984375 17.96875 50.515625 8.265625 \r\nQ 44.046875 -1.421875 31.78125 -1.421875 \r\nQ 19.53125 -1.421875 13.0625 8.265625 \r\nQ 6.59375 17.96875 6.59375 36.375 \r\nQ 6.59375 54.828125 13.0625 64.515625 \r\nQ 19.53125 74.21875 31.78125 74.21875 \r\nz\r\n\" id=\"DejaVuSans-48\"/>\r\n        <path d=\"M 72.703125 32.078125 \r\nQ 68.453125 32.078125 66.03125 28.46875 \r\nQ 63.625 24.859375 63.625 18.40625 \r\nQ 63.625 12.0625 66.03125 8.421875 \r\nQ 68.453125 4.78125 72.703125 4.78125 \r\nQ 76.859375 4.78125 79.265625 8.421875 \r\nQ 81.6875 12.0625 81.6875 18.40625 \r\nQ 81.6875 24.8125 79.265625 28.4375 \r\nQ 76.859375 32.078125 72.703125 32.078125 \r\nz\r\nM 72.703125 38.28125 \r\nQ 80.421875 38.28125 84.953125 32.90625 \r\nQ 89.5 27.546875 89.5 18.40625 \r\nQ 89.5 9.28125 84.9375 3.921875 \r\nQ 80.375 -1.421875 72.703125 -1.421875 \r\nQ 64.890625 -1.421875 60.34375 3.921875 \r\nQ 55.8125 9.28125 55.8125 18.40625 \r\nQ 55.8125 27.59375 60.375 32.9375 \r\nQ 64.9375 38.28125 72.703125 38.28125 \r\nz\r\nM 22.3125 68.015625 \r\nQ 18.109375 68.015625 15.6875 64.375 \r\nQ 13.28125 60.75 13.28125 54.390625 \r\nQ 13.28125 47.953125 15.671875 44.328125 \r\nQ 18.0625 40.71875 22.3125 40.71875 \r\nQ 26.5625 40.71875 28.96875 44.328125 \r\nQ 31.390625 47.953125 31.390625 54.390625 \r\nQ 31.390625 60.6875 28.953125 64.34375 \r\nQ 26.515625 68.015625 22.3125 68.015625 \r\nz\r\nM 66.40625 74.21875 \r\nL 74.21875 74.21875 \r\nL 28.609375 -1.421875 \r\nL 20.796875 -1.421875 \r\nz\r\nM 22.3125 74.21875 \r\nQ 30.03125 74.21875 34.609375 68.875 \r\nQ 39.203125 63.53125 39.203125 54.390625 \r\nQ 39.203125 45.171875 34.640625 39.84375 \r\nQ 30.078125 34.515625 22.3125 34.515625 \r\nQ 14.546875 34.515625 10.03125 39.859375 \r\nQ 5.515625 45.21875 5.515625 54.390625 \r\nQ 5.515625 63.484375 10.046875 68.84375 \r\nQ 14.59375 74.21875 22.3125 74.21875 \r\nz\r\n\" id=\"DejaVuSans-37\"/>\r\n       </defs>\r\n       <use xlink:href=\"#DejaVuSans-50\"/>\r\n       <use x=\"63.623047\" xlink:href=\"#DejaVuSans-48\"/>\r\n       <use x=\"127.246094\" xlink:href=\"#DejaVuSans-37\"/>\r\n      </g>\r\n     </g>\r\n    </g>\r\n    <g id=\"xtick_2\">\r\n     <g id=\"line2d_2\">\r\n      <g>\r\n       <use style=\"stroke:#000000;stroke-width:0.8;\" x=\"186.635265\" xlink:href=\"#mb670d757ed\" y=\"242.6\"/>\r\n      </g>\r\n     </g>\r\n     <g id=\"text_2\">\r\n      <!-- 30% -->\r\n      <g transform=\"translate(175.521983 257.198437)scale(0.1 -0.1)\">\r\n       <defs>\r\n        <path d=\"M 40.578125 39.3125 \r\nQ 47.65625 37.796875 51.625 33 \r\nQ 55.609375 28.21875 55.609375 21.1875 \r\nQ 55.609375 10.40625 48.1875 4.484375 \r\nQ 40.765625 -1.421875 27.09375 -1.421875 \r\nQ 22.515625 -1.421875 17.65625 -0.515625 \r\nQ 12.796875 0.390625 7.625 2.203125 \r\nL 7.625 11.71875 \r\nQ 11.71875 9.328125 16.59375 8.109375 \r\nQ 21.484375 6.890625 26.8125 6.890625 \r\nQ 36.078125 6.890625 40.9375 10.546875 \r\nQ 45.796875 14.203125 45.796875 21.1875 \r\nQ 45.796875 27.640625 41.28125 31.265625 \r\nQ 36.765625 34.90625 28.71875 34.90625 \r\nL 20.21875 34.90625 \r\nL 20.21875 43.015625 \r\nL 29.109375 43.015625 \r\nQ 36.375 43.015625 40.234375 45.921875 \r\nQ 44.09375 48.828125 44.09375 54.296875 \r\nQ 44.09375 59.90625 40.109375 62.90625 \r\nQ 36.140625 65.921875 28.71875 65.921875 \r\nQ 24.65625 65.921875 20.015625 65.03125 \r\nQ 15.375 64.15625 9.8125 62.3125 \r\nL 9.8125 71.09375 \r\nQ 15.4375 72.65625 20.34375 73.4375 \r\nQ 25.25 74.21875 29.59375 74.21875 \r\nQ 40.828125 74.21875 47.359375 69.109375 \r\nQ 53.90625 64.015625 53.90625 55.328125 \r\nQ 53.90625 49.265625 50.4375 45.09375 \r\nQ 46.96875 40.921875 40.578125 39.3125 \r\nz\r\n\" id=\"DejaVuSans-51\"/>\r\n       </defs>\r\n       <use xlink:href=\"#DejaVuSans-51\"/>\r\n       <use x=\"63.623047\" xlink:href=\"#DejaVuSans-48\"/>\r\n       <use x=\"127.246094\" xlink:href=\"#DejaVuSans-37\"/>\r\n      </g>\r\n     </g>\r\n    </g>\r\n    <g id=\"xtick_3\">\r\n     <g id=\"line2d_3\">\r\n      <g>\r\n       <use style=\"stroke:#000000;stroke-width:0.8;\" x=\"256.099951\" xlink:href=\"#mb670d757ed\" y=\"242.6\"/>\r\n      </g>\r\n     </g>\r\n     <g id=\"text_3\">\r\n      <!-- 40% -->\r\n      <g transform=\"translate(244.986669 257.198437)scale(0.1 -0.1)\">\r\n       <defs>\r\n        <path d=\"M 37.796875 64.3125 \r\nL 12.890625 25.390625 \r\nL 37.796875 25.390625 \r\nz\r\nM 35.203125 72.90625 \r\nL 47.609375 72.90625 \r\nL 47.609375 25.390625 \r\nL 58.015625 25.390625 \r\nL 58.015625 17.1875 \r\nL 47.609375 17.1875 \r\nL 47.609375 0 \r\nL 37.796875 0 \r\nL 37.796875 17.1875 \r\nL 4.890625 17.1875 \r\nL 4.890625 26.703125 \r\nz\r\n\" id=\"DejaVuSans-52\"/>\r\n       </defs>\r\n       <use xlink:href=\"#DejaVuSans-52\"/>\r\n       <use x=\"63.623047\" xlink:href=\"#DejaVuSans-48\"/>\r\n       <use x=\"127.246094\" xlink:href=\"#DejaVuSans-37\"/>\r\n      </g>\r\n     </g>\r\n    </g>\r\n    <g id=\"xtick_4\">\r\n     <g id=\"line2d_4\">\r\n      <g>\r\n       <use style=\"stroke:#000000;stroke-width:0.8;\" x=\"325.564636\" xlink:href=\"#mb670d757ed\" y=\"242.6\"/>\r\n      </g>\r\n     </g>\r\n     <g id=\"text_4\">\r\n      <!-- 50% -->\r\n      <g transform=\"translate(314.451355 257.198437)scale(0.1 -0.1)\">\r\n       <defs>\r\n        <path d=\"M 10.796875 72.90625 \r\nL 49.515625 72.90625 \r\nL 49.515625 64.59375 \r\nL 19.828125 64.59375 \r\nL 19.828125 46.734375 \r\nQ 21.96875 47.46875 24.109375 47.828125 \r\nQ 26.265625 48.1875 28.421875 48.1875 \r\nQ 40.625 48.1875 47.75 41.5 \r\nQ 54.890625 34.8125 54.890625 23.390625 \r\nQ 54.890625 11.625 47.5625 5.09375 \r\nQ 40.234375 -1.421875 26.90625 -1.421875 \r\nQ 22.3125 -1.421875 17.546875 -0.640625 \r\nQ 12.796875 0.140625 7.71875 1.703125 \r\nL 7.71875 11.625 \r\nQ 12.109375 9.234375 16.796875 8.0625 \r\nQ 21.484375 6.890625 26.703125 6.890625 \r\nQ 35.15625 6.890625 40.078125 11.328125 \r\nQ 45.015625 15.765625 45.015625 23.390625 \r\nQ 45.015625 31 40.078125 35.4375 \r\nQ 35.15625 39.890625 26.703125 39.890625 \r\nQ 22.75 39.890625 18.8125 39.015625 \r\nQ 14.890625 38.140625 10.796875 36.28125 \r\nz\r\n\" id=\"DejaVuSans-53\"/>\r\n       </defs>\r\n       <use xlink:href=\"#DejaVuSans-53\"/>\r\n       <use x=\"63.623047\" xlink:href=\"#DejaVuSans-48\"/>\r\n       <use x=\"127.246094\" xlink:href=\"#DejaVuSans-37\"/>\r\n      </g>\r\n     </g>\r\n    </g>\r\n    <g id=\"xtick_5\">\r\n     <g id=\"line2d_5\">\r\n      <g>\r\n       <use style=\"stroke:#000000;stroke-width:0.8;\" x=\"395.029322\" xlink:href=\"#mb670d757ed\" y=\"242.6\"/>\r\n      </g>\r\n     </g>\r\n     <g id=\"text_5\">\r\n      <!-- 60% -->\r\n      <g transform=\"translate(383.916041 257.198437)scale(0.1 -0.1)\">\r\n       <defs>\r\n        <path d=\"M 33.015625 40.375 \r\nQ 26.375 40.375 22.484375 35.828125 \r\nQ 18.609375 31.296875 18.609375 23.390625 \r\nQ 18.609375 15.53125 22.484375 10.953125 \r\nQ 26.375 6.390625 33.015625 6.390625 \r\nQ 39.65625 6.390625 43.53125 10.953125 \r\nQ 47.40625 15.53125 47.40625 23.390625 \r\nQ 47.40625 31.296875 43.53125 35.828125 \r\nQ 39.65625 40.375 33.015625 40.375 \r\nz\r\nM 52.59375 71.296875 \r\nL 52.59375 62.3125 \r\nQ 48.875 64.0625 45.09375 64.984375 \r\nQ 41.3125 65.921875 37.59375 65.921875 \r\nQ 27.828125 65.921875 22.671875 59.328125 \r\nQ 17.53125 52.734375 16.796875 39.40625 \r\nQ 19.671875 43.65625 24.015625 45.921875 \r\nQ 28.375 48.1875 33.59375 48.1875 \r\nQ 44.578125 48.1875 50.953125 41.515625 \r\nQ 57.328125 34.859375 57.328125 23.390625 \r\nQ 57.328125 12.15625 50.6875 5.359375 \r\nQ 44.046875 -1.421875 33.015625 -1.421875 \r\nQ 20.359375 -1.421875 13.671875 8.265625 \r\nQ 6.984375 17.96875 6.984375 36.375 \r\nQ 6.984375 53.65625 15.1875 63.9375 \r\nQ 23.390625 74.21875 37.203125 74.21875 \r\nQ 40.921875 74.21875 44.703125 73.484375 \r\nQ 48.484375 72.75 52.59375 71.296875 \r\nz\r\n\" id=\"DejaVuSans-54\"/>\r\n       </defs>\r\n       <use xlink:href=\"#DejaVuSans-54\"/>\r\n       <use x=\"63.623047\" xlink:href=\"#DejaVuSans-48\"/>\r\n       <use x=\"127.246094\" xlink:href=\"#DejaVuSans-37\"/>\r\n      </g>\r\n     </g>\r\n    </g>\r\n    <g id=\"text_6\">\r\n     <!-- Volatility -->\r\n     <g transform=\"translate(211.570312 270.876562)scale(0.1 -0.1)\">\r\n      <defs>\r\n       <path d=\"M 28.609375 0 \r\nL 0.78125 72.90625 \r\nL 11.078125 72.90625 \r\nL 34.1875 11.53125 \r\nL 57.328125 72.90625 \r\nL 67.578125 72.90625 \r\nL 39.796875 0 \r\nz\r\n\" id=\"DejaVuSans-86\"/>\r\n       <path d=\"M 30.609375 48.390625 \r\nQ 23.390625 48.390625 19.1875 42.75 \r\nQ 14.984375 37.109375 14.984375 27.296875 \r\nQ 14.984375 17.484375 19.15625 11.84375 \r\nQ 23.34375 6.203125 30.609375 6.203125 \r\nQ 37.796875 6.203125 41.984375 11.859375 \r\nQ 46.1875 17.53125 46.1875 27.296875 \r\nQ 46.1875 37.015625 41.984375 42.703125 \r\nQ 37.796875 48.390625 30.609375 48.390625 \r\nz\r\nM 30.609375 56 \r\nQ 42.328125 56 49.015625 48.375 \r\nQ 55.71875 40.765625 55.71875 27.296875 \r\nQ 55.71875 13.875 49.015625 6.21875 \r\nQ 42.328125 -1.421875 30.609375 -1.421875 \r\nQ 18.84375 -1.421875 12.171875 6.21875 \r\nQ 5.515625 13.875 5.515625 27.296875 \r\nQ 5.515625 40.765625 12.171875 48.375 \r\nQ 18.84375 56 30.609375 56 \r\nz\r\n\" id=\"DejaVuSans-111\"/>\r\n       <path d=\"M 9.421875 75.984375 \r\nL 18.40625 75.984375 \r\nL 18.40625 0 \r\nL 9.421875 0 \r\nz\r\n\" id=\"DejaVuSans-108\"/>\r\n       <path d=\"M 34.28125 27.484375 \r\nQ 23.390625 27.484375 19.1875 25 \r\nQ 14.984375 22.515625 14.984375 16.5 \r\nQ 14.984375 11.71875 18.140625 8.90625 \r\nQ 21.296875 6.109375 26.703125 6.109375 \r\nQ 34.1875 6.109375 38.703125 11.40625 \r\nQ 43.21875 16.703125 43.21875 25.484375 \r\nL 43.21875 27.484375 \r\nz\r\nM 52.203125 31.203125 \r\nL 52.203125 0 \r\nL 43.21875 0 \r\nL 43.21875 8.296875 \r\nQ 40.140625 3.328125 35.546875 0.953125 \r\nQ 30.953125 -1.421875 24.3125 -1.421875 \r\nQ 15.921875 -1.421875 10.953125 3.296875 \r\nQ 6 8.015625 6 15.921875 \r\nQ 6 25.140625 12.171875 29.828125 \r\nQ 18.359375 34.515625 30.609375 34.515625 \r\nL 43.21875 34.515625 \r\nL 43.21875 35.40625 \r\nQ 43.21875 41.609375 39.140625 45 \r\nQ 35.0625 48.390625 27.6875 48.390625 \r\nQ 23 48.390625 18.546875 47.265625 \r\nQ 14.109375 46.140625 10.015625 43.890625 \r\nL 10.015625 52.203125 \r\nQ 14.9375 54.109375 19.578125 55.046875 \r\nQ 24.21875 56 28.609375 56 \r\nQ 40.484375 56 46.34375 49.84375 \r\nQ 52.203125 43.703125 52.203125 31.203125 \r\nz\r\n\" id=\"DejaVuSans-97\"/>\r\n       <path d=\"M 18.3125 70.21875 \r\nL 18.3125 54.6875 \r\nL 36.8125 54.6875 \r\nL 36.8125 47.703125 \r\nL 18.3125 47.703125 \r\nL 18.3125 18.015625 \r\nQ 18.3125 11.328125 20.140625 9.421875 \r\nQ 21.96875 7.515625 27.59375 7.515625 \r\nL 36.8125 7.515625 \r\nL 36.8125 0 \r\nL 27.59375 0 \r\nQ 17.1875 0 13.234375 3.875 \r\nQ 9.28125 7.765625 9.28125 18.015625 \r\nL 9.28125 47.703125 \r\nL 2.6875 47.703125 \r\nL 2.6875 54.6875 \r\nL 9.28125 54.6875 \r\nL 9.28125 70.21875 \r\nz\r\n\" id=\"DejaVuSans-116\"/>\r\n       <path d=\"M 9.421875 54.6875 \r\nL 18.40625 54.6875 \r\nL 18.40625 0 \r\nL 9.421875 0 \r\nz\r\nM 9.421875 75.984375 \r\nL 18.40625 75.984375 \r\nL 18.40625 64.59375 \r\nL 9.421875 64.59375 \r\nz\r\n\" id=\"DejaVuSans-105\"/>\r\n       <path d=\"M 32.171875 -5.078125 \r\nQ 28.375 -14.84375 24.75 -17.8125 \r\nQ 21.140625 -20.796875 15.09375 -20.796875 \r\nL 7.90625 -20.796875 \r\nL 7.90625 -13.28125 \r\nL 13.1875 -13.28125 \r\nQ 16.890625 -13.28125 18.9375 -11.515625 \r\nQ 21 -9.765625 23.484375 -3.21875 \r\nL 25.09375 0.875 \r\nL 2.984375 54.6875 \r\nL 12.5 54.6875 \r\nL 29.59375 11.921875 \r\nL 46.6875 54.6875 \r\nL 56.203125 54.6875 \r\nz\r\n\" id=\"DejaVuSans-121\"/>\r\n      </defs>\r\n      <use xlink:href=\"#DejaVuSans-86\"/>\r\n      <use x=\"60.658203\" xlink:href=\"#DejaVuSans-111\"/>\r\n      <use x=\"121.839844\" xlink:href=\"#DejaVuSans-108\"/>\r\n      <use x=\"149.623047\" xlink:href=\"#DejaVuSans-97\"/>\r\n      <use x=\"210.902344\" xlink:href=\"#DejaVuSans-116\"/>\r\n      <use x=\"250.111328\" xlink:href=\"#DejaVuSans-105\"/>\r\n      <use x=\"277.894531\" xlink:href=\"#DejaVuSans-108\"/>\r\n      <use x=\"305.677734\" xlink:href=\"#DejaVuSans-105\"/>\r\n      <use x=\"333.460938\" xlink:href=\"#DejaVuSans-116\"/>\r\n      <use x=\"372.669922\" xlink:href=\"#DejaVuSans-121\"/>\r\n     </g>\r\n    </g>\r\n   </g>\r\n   <g id=\"matplotlib.axis_2\">\r\n    <g id=\"ytick_1\">\r\n     <g id=\"line2d_6\">\r\n      <defs>\r\n       <path d=\"M 0 0 \r\nL -3.5 0 \r\n\" id=\"m5c6b886974\" style=\"stroke:#000000;stroke-width:0.8;\"/>\r\n      </defs>\r\n      <g>\r\n       <use style=\"stroke:#000000;stroke-width:0.8;\" x=\"53.7125\" xlink:href=\"#m5c6b886974\" y=\"234.329424\"/>\r\n      </g>\r\n     </g>\r\n     <g id=\"text_7\">\r\n      <!-- -10% -->\r\n      <g transform=\"translate(20.878125 238.128643)scale(0.1 -0.1)\">\r\n       <defs>\r\n        <path d=\"M 4.890625 31.390625 \r\nL 31.203125 31.390625 \r\nL 31.203125 23.390625 \r\nL 4.890625 23.390625 \r\nz\r\n\" id=\"DejaVuSans-45\"/>\r\n        <path d=\"M 12.40625 8.296875 \r\nL 28.515625 8.296875 \r\nL 28.515625 63.921875 \r\nL 10.984375 60.40625 \r\nL 10.984375 69.390625 \r\nL 28.421875 72.90625 \r\nL 38.28125 72.90625 \r\nL 38.28125 8.296875 \r\nL 54.390625 8.296875 \r\nL 54.390625 0 \r\nL 12.40625 0 \r\nz\r\n\" id=\"DejaVuSans-49\"/>\r\n       </defs>\r\n       <use xlink:href=\"#DejaVuSans-45\"/>\r\n       <use x=\"36.083984\" xlink:href=\"#DejaVuSans-49\"/>\r\n       <use x=\"99.707031\" xlink:href=\"#DejaVuSans-48\"/>\r\n       <use x=\"163.330078\" xlink:href=\"#DejaVuSans-37\"/>\r\n      </g>\r\n     </g>\r\n    </g>\r\n    <g id=\"ytick_2\">\r\n     <g id=\"line2d_7\">\r\n      <g>\r\n       <use style=\"stroke:#000000;stroke-width:0.8;\" x=\"53.7125\" xlink:href=\"#m5c6b886974\" y=\"192.402673\"/>\r\n      </g>\r\n     </g>\r\n     <g id=\"text_8\">\r\n      <!-- -5% -->\r\n      <g transform=\"translate(27.240625 196.201892)scale(0.1 -0.1)\">\r\n       <use xlink:href=\"#DejaVuSans-45\"/>\r\n       <use x=\"36.083984\" xlink:href=\"#DejaVuSans-53\"/>\r\n       <use x=\"99.707031\" xlink:href=\"#DejaVuSans-37\"/>\r\n      </g>\r\n     </g>\r\n    </g>\r\n    <g id=\"ytick_3\">\r\n     <g id=\"line2d_8\">\r\n      <g>\r\n       <use style=\"stroke:#000000;stroke-width:0.8;\" x=\"53.7125\" xlink:href=\"#m5c6b886974\" y=\"150.475923\"/>\r\n      </g>\r\n     </g>\r\n     <g id=\"text_9\">\r\n      <!-- 0% -->\r\n      <g transform=\"translate(30.848438 154.275141)scale(0.1 -0.1)\">\r\n       <use xlink:href=\"#DejaVuSans-48\"/>\r\n       <use x=\"63.623047\" xlink:href=\"#DejaVuSans-37\"/>\r\n      </g>\r\n     </g>\r\n    </g>\r\n    <g id=\"ytick_4\">\r\n     <g id=\"line2d_9\">\r\n      <g>\r\n       <use style=\"stroke:#000000;stroke-width:0.8;\" x=\"53.7125\" xlink:href=\"#m5c6b886974\" y=\"108.549172\"/>\r\n      </g>\r\n     </g>\r\n     <g id=\"text_10\">\r\n      <!-- 5% -->\r\n      <g transform=\"translate(30.848438 112.348391)scale(0.1 -0.1)\">\r\n       <use xlink:href=\"#DejaVuSans-53\"/>\r\n       <use x=\"63.623047\" xlink:href=\"#DejaVuSans-37\"/>\r\n      </g>\r\n     </g>\r\n    </g>\r\n    <g id=\"ytick_5\">\r\n     <g id=\"line2d_10\">\r\n      <g>\r\n       <use style=\"stroke:#000000;stroke-width:0.8;\" x=\"53.7125\" xlink:href=\"#m5c6b886974\" y=\"66.622421\"/>\r\n      </g>\r\n     </g>\r\n     <g id=\"text_11\">\r\n      <!-- 10% -->\r\n      <g transform=\"translate(24.485938 70.42164)scale(0.1 -0.1)\">\r\n       <use xlink:href=\"#DejaVuSans-49\"/>\r\n       <use x=\"63.623047\" xlink:href=\"#DejaVuSans-48\"/>\r\n       <use x=\"127.246094\" xlink:href=\"#DejaVuSans-37\"/>\r\n      </g>\r\n     </g>\r\n    </g>\r\n    <g id=\"ytick_6\">\r\n     <g id=\"line2d_11\">\r\n      <g>\r\n       <use style=\"stroke:#000000;stroke-width:0.8;\" x=\"53.7125\" xlink:href=\"#m5c6b886974\" y=\"24.695671\"/>\r\n      </g>\r\n     </g>\r\n     <g id=\"text_12\">\r\n      <!-- 15% -->\r\n      <g transform=\"translate(24.485938 28.494889)scale(0.1 -0.1)\">\r\n       <use xlink:href=\"#DejaVuSans-49\"/>\r\n       <use x=\"63.623047\" xlink:href=\"#DejaVuSans-53\"/>\r\n       <use x=\"127.246094\" xlink:href=\"#DejaVuSans-37\"/>\r\n      </g>\r\n     </g>\r\n    </g>\r\n    <g id=\"text_13\">\r\n     <!-- Return -->\r\n     <g transform=\"translate(14.798438 141.491406)rotate(-90)scale(0.1 -0.1)\">\r\n      <defs>\r\n       <path d=\"M 44.390625 34.1875 \r\nQ 47.5625 33.109375 50.5625 29.59375 \r\nQ 53.5625 26.078125 56.59375 19.921875 \r\nL 66.609375 0 \r\nL 56 0 \r\nL 46.6875 18.703125 \r\nQ 43.0625 26.03125 39.671875 28.421875 \r\nQ 36.28125 30.8125 30.421875 30.8125 \r\nL 19.671875 30.8125 \r\nL 19.671875 0 \r\nL 9.8125 0 \r\nL 9.8125 72.90625 \r\nL 32.078125 72.90625 \r\nQ 44.578125 72.90625 50.734375 67.671875 \r\nQ 56.890625 62.453125 56.890625 51.90625 \r\nQ 56.890625 45.015625 53.6875 40.46875 \r\nQ 50.484375 35.9375 44.390625 34.1875 \r\nz\r\nM 19.671875 64.796875 \r\nL 19.671875 38.921875 \r\nL 32.078125 38.921875 \r\nQ 39.203125 38.921875 42.84375 42.21875 \r\nQ 46.484375 45.515625 46.484375 51.90625 \r\nQ 46.484375 58.296875 42.84375 61.546875 \r\nQ 39.203125 64.796875 32.078125 64.796875 \r\nz\r\n\" id=\"DejaVuSans-82\"/>\r\n       <path d=\"M 56.203125 29.59375 \r\nL 56.203125 25.203125 \r\nL 14.890625 25.203125 \r\nQ 15.484375 15.921875 20.484375 11.0625 \r\nQ 25.484375 6.203125 34.421875 6.203125 \r\nQ 39.59375 6.203125 44.453125 7.46875 \r\nQ 49.3125 8.734375 54.109375 11.28125 \r\nL 54.109375 2.78125 \r\nQ 49.265625 0.734375 44.1875 -0.34375 \r\nQ 39.109375 -1.421875 33.890625 -1.421875 \r\nQ 20.796875 -1.421875 13.15625 6.1875 \r\nQ 5.515625 13.8125 5.515625 26.8125 \r\nQ 5.515625 40.234375 12.765625 48.109375 \r\nQ 20.015625 56 32.328125 56 \r\nQ 43.359375 56 49.78125 48.890625 \r\nQ 56.203125 41.796875 56.203125 29.59375 \r\nz\r\nM 47.21875 32.234375 \r\nQ 47.125 39.59375 43.09375 43.984375 \r\nQ 39.0625 48.390625 32.421875 48.390625 \r\nQ 24.90625 48.390625 20.390625 44.140625 \r\nQ 15.875 39.890625 15.1875 32.171875 \r\nz\r\n\" id=\"DejaVuSans-101\"/>\r\n       <path d=\"M 8.5 21.578125 \r\nL 8.5 54.6875 \r\nL 17.484375 54.6875 \r\nL 17.484375 21.921875 \r\nQ 17.484375 14.15625 20.5 10.265625 \r\nQ 23.53125 6.390625 29.59375 6.390625 \r\nQ 36.859375 6.390625 41.078125 11.03125 \r\nQ 45.3125 15.671875 45.3125 23.6875 \r\nL 45.3125 54.6875 \r\nL 54.296875 54.6875 \r\nL 54.296875 0 \r\nL 45.3125 0 \r\nL 45.3125 8.40625 \r\nQ 42.046875 3.421875 37.71875 1 \r\nQ 33.40625 -1.421875 27.6875 -1.421875 \r\nQ 18.265625 -1.421875 13.375 4.4375 \r\nQ 8.5 10.296875 8.5 21.578125 \r\nz\r\nM 31.109375 56 \r\nz\r\n\" id=\"DejaVuSans-117\"/>\r\n       <path d=\"M 41.109375 46.296875 \r\nQ 39.59375 47.171875 37.8125 47.578125 \r\nQ 36.03125 48 33.890625 48 \r\nQ 26.265625 48 22.1875 43.046875 \r\nQ 18.109375 38.09375 18.109375 28.8125 \r\nL 18.109375 0 \r\nL 9.078125 0 \r\nL 9.078125 54.6875 \r\nL 18.109375 54.6875 \r\nL 18.109375 46.1875 \r\nQ 20.953125 51.171875 25.484375 53.578125 \r\nQ 30.03125 56 36.53125 56 \r\nQ 37.453125 56 38.578125 55.875 \r\nQ 39.703125 55.765625 41.0625 55.515625 \r\nz\r\n\" id=\"DejaVuSans-114\"/>\r\n       <path d=\"M 54.890625 33.015625 \r\nL 54.890625 0 \r\nL 45.90625 0 \r\nL 45.90625 32.71875 \r\nQ 45.90625 40.484375 42.875 44.328125 \r\nQ 39.84375 48.1875 33.796875 48.1875 \r\nQ 26.515625 48.1875 22.3125 43.546875 \r\nQ 18.109375 38.921875 18.109375 30.90625 \r\nL 18.109375 0 \r\nL 9.078125 0 \r\nL 9.078125 54.6875 \r\nL 18.109375 54.6875 \r\nL 18.109375 46.1875 \r\nQ 21.34375 51.125 25.703125 53.5625 \r\nQ 30.078125 56 35.796875 56 \r\nQ 45.21875 56 50.046875 50.171875 \r\nQ 54.890625 44.34375 54.890625 33.015625 \r\nz\r\n\" id=\"DejaVuSans-110\"/>\r\n      </defs>\r\n      <use xlink:href=\"#DejaVuSans-82\"/>\r\n      <use x=\"64.982422\" xlink:href=\"#DejaVuSans-101\"/>\r\n      <use x=\"126.505859\" xlink:href=\"#DejaVuSans-116\"/>\r\n      <use x=\"165.714844\" xlink:href=\"#DejaVuSans-117\"/>\r\n      <use x=\"229.09375\" xlink:href=\"#DejaVuSans-114\"/>\r\n      <use x=\"268.457031\" xlink:href=\"#DejaVuSans-110\"/>\r\n     </g>\r\n    </g>\r\n   </g>\r\n   <g id=\"line2d_12\">\r\n    <path clip-path=\"url(#p168ee438a6)\" d=\"M 140.570124 17.9 \r\nL 140.570124 17.9 \r\nL 140.570124 17.9 \r\nL 140.570124 17.9 \r\nL 140.570124 17.9 \r\nL 140.570124 17.9 \r\nL 140.570124 17.9 \r\nL 140.570124 17.9 \r\nL 140.570124 17.9 \r\nL 140.570124 17.9 \r\nL 140.570124 17.9 \r\nL 135.12371 18.266862 \r\nL 130.031728 18.633724 \r\nL 125.330993 19.000586 \r\nL 121.060143 19.367448 \r\nL 117.258804 19.73431 \r\nL 113.96643 20.101172 \r\nL 111.220831 20.468034 \r\nL 109.05644 20.834896 \r\nL 107.502455 21.201758 \r\nL 106.581051 21.56862 \r\nL 105.850424 22.018401 \r\nL 105.129369 22.468182 \r\nL 104.418051 22.917963 \r\nL 103.716634 23.367744 \r\nL 103.025285 23.817525 \r\nL 102.344174 24.267306 \r\nL 101.673469 24.717087 \r\nL 101.013342 25.166868 \r\nL 100.363962 25.616649 \r\nL 99.725504 26.06643 \r\nL 95.770758 28.947362 \r\nL 92.028361 31.828294 \r\nL 88.519935 34.709226 \r\nL 85.268491 37.590158 \r\nL 82.298122 40.471089 \r\nL 79.633534 43.352021 \r\nL 77.299405 46.232953 \r\nL 75.319574 49.113885 \r\nL 73.716087 51.994817 \r\nL 72.508148 54.875748 \r\nL 72.222018 55.72522 \r\nL 71.956229 56.574691 \r\nL 71.710955 57.424162 \r\nL 71.486358 58.273633 \r\nL 71.282587 59.123105 \r\nL 71.099779 59.972576 \r\nL 70.93806 60.822047 \r\nL 70.797538 61.671518 \r\nL 70.678311 62.520989 \r\nL 70.580462 63.370461 \r\nL 70.554544 63.62769 \r\nL 70.529563 63.884919 \r\nL 70.505521 64.142148 \r\nL 70.482417 64.399377 \r\nL 70.460252 64.656606 \r\nL 70.439028 64.913835 \r\nL 70.418744 65.171065 \r\nL 70.399402 65.428294 \r\nL 70.381001 65.685523 \r\nL 70.363543 65.942752 \r\nL 70.338455 66.330263 \r\nL 70.314372 66.717774 \r\nL 70.291293 67.105285 \r\nL 70.269221 67.492796 \r\nL 70.248156 67.880307 \r\nL 70.228098 68.267818 \r\nL 70.209048 68.655329 \r\nL 70.191007 69.04284 \r\nL 70.173975 69.430352 \r\nL 70.157953 69.817863 \r\nL 70.132922 70.475781 \r\nL 70.110521 71.133698 \r\nL 70.09075 71.791616 \r\nL 70.073612 72.449534 \r\nL 70.059108 73.107452 \r\nL 70.04724 73.76537 \r\nL 70.038008 74.423288 \r\nL 70.031413 75.081206 \r\nL 70.027455 75.739124 \r\nL 70.026136 76.397042 \r\n\" style=\"fill:none;stroke:#4c72b0;stroke-linecap:square;stroke-width:1.5;\"/>\r\n   </g>\r\n   <g id=\"patch_3\">\r\n    <path d=\"M 53.7125 242.6 \r\nL 53.7125 7.2 \r\n\" style=\"fill:none;stroke:#000000;stroke-linecap:square;stroke-linejoin:miter;stroke-width:0.8;\"/>\r\n   </g>\r\n   <g id=\"patch_4\">\r\n    <path d=\"M 412.6125 242.6 \r\nL 412.6125 7.2 \r\n\" style=\"fill:none;stroke:#000000;stroke-linecap:square;stroke-linejoin:miter;stroke-width:0.8;\"/>\r\n   </g>\r\n   <g id=\"patch_5\">\r\n    <path d=\"M 53.7125 242.6 \r\nL 412.6125 242.6 \r\n\" style=\"fill:none;stroke:#000000;stroke-linecap:square;stroke-linejoin:miter;stroke-width:0.8;\"/>\r\n   </g>\r\n   <g id=\"patch_6\">\r\n    <path d=\"M 53.7125 7.2 \r\nL 412.6125 7.2 \r\n\" style=\"fill:none;stroke:#000000;stroke-linecap:square;stroke-linejoin:miter;stroke-width:0.8;\"/>\r\n   </g>\r\n   <g id=\"legend_1\">\r\n    <g id=\"patch_7\">\r\n     <path d=\"M 292.784375 59.234375 \r\nL 405.6125 59.234375 \r\nQ 407.6125 59.234375 407.6125 57.234375 \r\nL 407.6125 14.2 \r\nQ 407.6125 12.2 405.6125 12.2 \r\nL 292.784375 12.2 \r\nQ 290.784375 12.2 290.784375 14.2 \r\nL 290.784375 57.234375 \r\nQ 290.784375 59.234375 292.784375 59.234375 \r\nz\r\n\" style=\"fill:#ffffff;opacity:0.8;stroke:#cccccc;stroke-linejoin:miter;\"/>\r\n    </g>\r\n    <g id=\"line2d_13\">\r\n     <path d=\"M 294.784375 20.298437 \r\nL 314.784375 20.298437 \r\n\" style=\"fill:none;stroke:#4c72b0;stroke-linecap:square;stroke-width:1.5;\"/>\r\n    </g>\r\n    <g id=\"line2d_14\"/>\r\n    <g id=\"text_14\">\r\n     <!-- Efficient frontier -->\r\n     <g transform=\"translate(322.784375 23.798437)scale(0.1 -0.1)\">\r\n      <defs>\r\n       <path d=\"M 9.8125 72.90625 \r\nL 55.90625 72.90625 \r\nL 55.90625 64.59375 \r\nL 19.671875 64.59375 \r\nL 19.671875 43.015625 \r\nL 54.390625 43.015625 \r\nL 54.390625 34.71875 \r\nL 19.671875 34.71875 \r\nL 19.671875 8.296875 \r\nL 56.78125 8.296875 \r\nL 56.78125 0 \r\nL 9.8125 0 \r\nz\r\n\" id=\"DejaVuSans-69\"/>\r\n       <path d=\"M 37.109375 75.984375 \r\nL 37.109375 68.5 \r\nL 28.515625 68.5 \r\nQ 23.6875 68.5 21.796875 66.546875 \r\nQ 19.921875 64.59375 19.921875 59.515625 \r\nL 19.921875 54.6875 \r\nL 34.71875 54.6875 \r\nL 34.71875 47.703125 \r\nL 19.921875 47.703125 \r\nL 19.921875 0 \r\nL 10.890625 0 \r\nL 10.890625 47.703125 \r\nL 2.296875 47.703125 \r\nL 2.296875 54.6875 \r\nL 10.890625 54.6875 \r\nL 10.890625 58.5 \r\nQ 10.890625 67.625 15.140625 71.796875 \r\nQ 19.390625 75.984375 28.609375 75.984375 \r\nz\r\n\" id=\"DejaVuSans-102\"/>\r\n       <path d=\"M 48.78125 52.59375 \r\nL 48.78125 44.1875 \r\nQ 44.96875 46.296875 41.140625 47.34375 \r\nQ 37.3125 48.390625 33.40625 48.390625 \r\nQ 24.65625 48.390625 19.8125 42.84375 \r\nQ 14.984375 37.3125 14.984375 27.296875 \r\nQ 14.984375 17.28125 19.8125 11.734375 \r\nQ 24.65625 6.203125 33.40625 6.203125 \r\nQ 37.3125 6.203125 41.140625 7.25 \r\nQ 44.96875 8.296875 48.78125 10.40625 \r\nL 48.78125 2.09375 \r\nQ 45.015625 0.34375 40.984375 -0.53125 \r\nQ 36.96875 -1.421875 32.421875 -1.421875 \r\nQ 20.0625 -1.421875 12.78125 6.34375 \r\nQ 5.515625 14.109375 5.515625 27.296875 \r\nQ 5.515625 40.671875 12.859375 48.328125 \r\nQ 20.21875 56 33.015625 56 \r\nQ 37.15625 56 41.109375 55.140625 \r\nQ 45.0625 54.296875 48.78125 52.59375 \r\nz\r\n\" id=\"DejaVuSans-99\"/>\r\n       <path id=\"DejaVuSans-32\"/>\r\n      </defs>\r\n      <use xlink:href=\"#DejaVuSans-69\"/>\r\n      <use x=\"63.183594\" xlink:href=\"#DejaVuSans-102\"/>\r\n      <use x=\"98.388672\" xlink:href=\"#DejaVuSans-102\"/>\r\n      <use x=\"133.59375\" xlink:href=\"#DejaVuSans-105\"/>\r\n      <use x=\"161.376953\" xlink:href=\"#DejaVuSans-99\"/>\r\n      <use x=\"216.357422\" xlink:href=\"#DejaVuSans-105\"/>\r\n      <use x=\"244.140625\" xlink:href=\"#DejaVuSans-101\"/>\r\n      <use x=\"305.664062\" xlink:href=\"#DejaVuSans-110\"/>\r\n      <use x=\"369.042969\" xlink:href=\"#DejaVuSans-116\"/>\r\n      <use x=\"408.251953\" xlink:href=\"#DejaVuSans-32\"/>\r\n      <use x=\"440.039062\" xlink:href=\"#DejaVuSans-102\"/>\r\n      <use x=\"475.244141\" xlink:href=\"#DejaVuSans-114\"/>\r\n      <use x=\"514.107422\" xlink:href=\"#DejaVuSans-111\"/>\r\n      <use x=\"575.289062\" xlink:href=\"#DejaVuSans-110\"/>\r\n      <use x=\"638.667969\" xlink:href=\"#DejaVuSans-116\"/>\r\n      <use x=\"677.876953\" xlink:href=\"#DejaVuSans-105\"/>\r\n      <use x=\"705.660156\" xlink:href=\"#DejaVuSans-101\"/>\r\n      <use x=\"767.183594\" xlink:href=\"#DejaVuSans-114\"/>\r\n     </g>\r\n    </g>\r\n    <g id=\"PathCollection_3\">\r\n     <g>\r\n      <use style=\"fill:#ff0000;stroke:#ff0000;stroke-width:1.5;\" x=\"304.784375\" xlink:href=\"#m73bf914bb9\" y=\"35.851562\"/>\r\n     </g>\r\n    </g>\r\n    <g id=\"text_15\">\r\n     <!-- optimal -->\r\n     <g transform=\"translate(322.784375 38.476562)scale(0.1 -0.1)\">\r\n      <defs>\r\n       <path d=\"M 18.109375 8.203125 \r\nL 18.109375 -20.796875 \r\nL 9.078125 -20.796875 \r\nL 9.078125 54.6875 \r\nL 18.109375 54.6875 \r\nL 18.109375 46.390625 \r\nQ 20.953125 51.265625 25.265625 53.625 \r\nQ 29.59375 56 35.59375 56 \r\nQ 45.5625 56 51.78125 48.09375 \r\nQ 58.015625 40.1875 58.015625 27.296875 \r\nQ 58.015625 14.40625 51.78125 6.484375 \r\nQ 45.5625 -1.421875 35.59375 -1.421875 \r\nQ 29.59375 -1.421875 25.265625 0.953125 \r\nQ 20.953125 3.328125 18.109375 8.203125 \r\nz\r\nM 48.6875 27.296875 \r\nQ 48.6875 37.203125 44.609375 42.84375 \r\nQ 40.53125 48.484375 33.40625 48.484375 \r\nQ 26.265625 48.484375 22.1875 42.84375 \r\nQ 18.109375 37.203125 18.109375 27.296875 \r\nQ 18.109375 17.390625 22.1875 11.75 \r\nQ 26.265625 6.109375 33.40625 6.109375 \r\nQ 40.53125 6.109375 44.609375 11.75 \r\nQ 48.6875 17.390625 48.6875 27.296875 \r\nz\r\n\" id=\"DejaVuSans-112\"/>\r\n       <path d=\"M 52 44.1875 \r\nQ 55.375 50.25 60.0625 53.125 \r\nQ 64.75 56 71.09375 56 \r\nQ 79.640625 56 84.28125 50.015625 \r\nQ 88.921875 44.046875 88.921875 33.015625 \r\nL 88.921875 0 \r\nL 79.890625 0 \r\nL 79.890625 32.71875 \r\nQ 79.890625 40.578125 77.09375 44.375 \r\nQ 74.3125 48.1875 68.609375 48.1875 \r\nQ 61.625 48.1875 57.5625 43.546875 \r\nQ 53.515625 38.921875 53.515625 30.90625 \r\nL 53.515625 0 \r\nL 44.484375 0 \r\nL 44.484375 32.71875 \r\nQ 44.484375 40.625 41.703125 44.40625 \r\nQ 38.921875 48.1875 33.109375 48.1875 \r\nQ 26.21875 48.1875 22.15625 43.53125 \r\nQ 18.109375 38.875 18.109375 30.90625 \r\nL 18.109375 0 \r\nL 9.078125 0 \r\nL 9.078125 54.6875 \r\nL 18.109375 54.6875 \r\nL 18.109375 46.1875 \r\nQ 21.1875 51.21875 25.484375 53.609375 \r\nQ 29.78125 56 35.6875 56 \r\nQ 41.65625 56 45.828125 52.96875 \r\nQ 50 49.953125 52 44.1875 \r\nz\r\n\" id=\"DejaVuSans-109\"/>\r\n      </defs>\r\n      <use xlink:href=\"#DejaVuSans-111\"/>\r\n      <use x=\"61.181641\" xlink:href=\"#DejaVuSans-112\"/>\r\n      <use x=\"124.658203\" xlink:href=\"#DejaVuSans-116\"/>\r\n      <use x=\"163.867188\" xlink:href=\"#DejaVuSans-105\"/>\r\n      <use x=\"191.650391\" xlink:href=\"#DejaVuSans-109\"/>\r\n      <use x=\"289.0625\" xlink:href=\"#DejaVuSans-97\"/>\r\n      <use x=\"350.341797\" xlink:href=\"#DejaVuSans-108\"/>\r\n     </g>\r\n    </g>\r\n    <g id=\"PathCollection_4\">\r\n     <g>\r\n      <use style=\"stroke:#000000;\" x=\"304.784375\" xlink:href=\"#m96a66e4821\" y=\"50.529687\"/>\r\n     </g>\r\n    </g>\r\n    <g id=\"text_16\">\r\n     <!-- assets -->\r\n     <g transform=\"translate(322.784375 53.154687)scale(0.1 -0.1)\">\r\n      <defs>\r\n       <path d=\"M 44.28125 53.078125 \r\nL 44.28125 44.578125 \r\nQ 40.484375 46.53125 36.375 47.5 \r\nQ 32.28125 48.484375 27.875 48.484375 \r\nQ 21.1875 48.484375 17.84375 46.4375 \r\nQ 14.5 44.390625 14.5 40.28125 \r\nQ 14.5 37.15625 16.890625 35.375 \r\nQ 19.28125 33.59375 26.515625 31.984375 \r\nL 29.59375 31.296875 \r\nQ 39.15625 29.25 43.1875 25.515625 \r\nQ 47.21875 21.78125 47.21875 15.09375 \r\nQ 47.21875 7.46875 41.1875 3.015625 \r\nQ 35.15625 -1.421875 24.609375 -1.421875 \r\nQ 20.21875 -1.421875 15.453125 -0.5625 \r\nQ 10.6875 0.296875 5.421875 2 \r\nL 5.421875 11.28125 \r\nQ 10.40625 8.6875 15.234375 7.390625 \r\nQ 20.0625 6.109375 24.8125 6.109375 \r\nQ 31.15625 6.109375 34.5625 8.28125 \r\nQ 37.984375 10.453125 37.984375 14.40625 \r\nQ 37.984375 18.0625 35.515625 20.015625 \r\nQ 33.0625 21.96875 24.703125 23.78125 \r\nL 21.578125 24.515625 \r\nQ 13.234375 26.265625 9.515625 29.90625 \r\nQ 5.8125 33.546875 5.8125 39.890625 \r\nQ 5.8125 47.609375 11.28125 51.796875 \r\nQ 16.75 56 26.8125 56 \r\nQ 31.78125 56 36.171875 55.265625 \r\nQ 40.578125 54.546875 44.28125 53.078125 \r\nz\r\n\" id=\"DejaVuSans-115\"/>\r\n      </defs>\r\n      <use xlink:href=\"#DejaVuSans-97\"/>\r\n      <use x=\"61.279297\" xlink:href=\"#DejaVuSans-115\"/>\r\n      <use x=\"113.378906\" xlink:href=\"#DejaVuSans-115\"/>\r\n      <use x=\"165.478516\" xlink:href=\"#DejaVuSans-101\"/>\r\n      <use x=\"227.001953\" xlink:href=\"#DejaVuSans-116\"/>\r\n      <use x=\"266.210938\" xlink:href=\"#DejaVuSans-115\"/>\r\n     </g>\r\n    </g>\r\n   </g>\r\n  </g>\r\n </g>\r\n <defs>\r\n  <clipPath id=\"p168ee438a6\">\r\n   <rect height=\"235.4\" width=\"358.9\" x=\"53.7125\" y=\"7.2\"/>\r\n  </clipPath>\r\n </defs>\r\n</svg>\r\n",
      "image/png": "[encoded data removed]"
     },
     "metadata": {
      "needs_background": "light"
     }
    }
   ],
   "source": [
    "# Plot the Efficient Frontier for visual puposes\n",
    "cl_obj = CLA(mu, Sigma)\n",
    "ax = pplt.plot_efficient_frontier(cl_obj, showfig=False)\n",
    "ax.xaxis.set_major_formatter(FuncFormatter(lambda x, _: \"{:.0%}\".format(x)))\n",
    "ax.yaxis.set_major_formatter(FuncFormatter(lambda y, _: \"{:.0%}\".format(y)))"
   ]
  },
  {
   "cell_type": "code",
   "execution_count": 18,
   "metadata": {},
   "outputs": [
    {
     "output_type": "execute_result",
     "data": {
      "text/plain": [
       "AMS.SW       18.670000\n",
       "CS           12.850000\n",
       "LISP.SW    8235.000000\n",
       "LOGN         50.000000\n",
       "NESN.SW     100.000000\n",
       "NOVN.SW      77.860001\n",
       "ROG.SW      304.500000\n",
       "SLHN.SW     454.799988\n",
       "SREN.SW      92.019997\n",
       "UBSG.SW      14.425000\n",
       "Name: 2021-03-12 00:00:00, dtype: float64"
      ]
     },
     "metadata": {},
     "execution_count": 18
    }
   ],
   "source": [
    "# Get latest prices\n",
    "latest_prices = discrete_allocation.get_latest_prices(df_stocks)\n",
    "latest_prices"
   ]
  },
  {
   "cell_type": "code",
   "execution_count": 19,
   "metadata": {},
   "outputs": [
    {
     "output_type": "stream",
     "name": "stdout",
     "text": [
      "{'AMS.SW': 2, 'LOGN': 60, 'NESN.SW': 15, 'ROG.SW': 3, 'SLHN.SW': 10}\nLeftover fund after building Max Sharpe Portfolio is $1.16\n"
     ]
    }
   ],
   "source": [
    "# Allocate Portfolio Value in $ as required to show number of shares/stocks to buy\n",
    "\n",
    "# Max Sharpe Ratio Portfolio Allocation $10,000\n",
    "allocation_shp, rem_shp = discrete_allocation.DiscreteAllocation(sharpe_pwt, latest_prices, total_portfolio_value=10000).lp_portfolio()\n",
    "print(allocation_shp)\n",
    "print(\"Leftover fund after building Max Sharpe Portfolio is ${:.2f}\".format(rem_shp))"
   ]
  },
  {
   "cell_type": "code",
   "execution_count": 20,
   "metadata": {},
   "outputs": [
    {
     "output_type": "stream",
     "name": "stdout",
     "text": [
      "{'AMS.SW': 69, 'CS': 24, 'LOGN': 39, 'NESN.SW': 39, 'NOVN.SW': 3, 'ROG.SW': 4, 'SLHN.SW': 1, 'SREN.SW': 7}\nLeftover fund after building Min Volatility Portfolio is $2.85\n"
     ]
    }
   ],
   "source": [
    "# Min Volatility Portfolio Allocation $10,000\n",
    "allocation_minv, rem_minv = discrete_allocation.DiscreteAllocation(minvol, latest_prices, total_portfolio_value=10000).lp_portfolio()\n",
    "print(allocation_minv)\n",
    "print(\"Leftover fund after building Min Volatility Portfolio is ${:.2f}\".format(rem_minv))"
   ]
  },
  {
   "cell_type": "code",
   "execution_count": null,
   "metadata": {},
   "outputs": [],
   "source": []
  }
 ]
}